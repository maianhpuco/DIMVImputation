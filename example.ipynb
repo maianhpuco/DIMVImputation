{
  "cells": [
    {
      "cell_type": "code",
      "source": [
        "#  Comment the following line if you have installed the DIMVImputation library by cloning the repository.\n",
        "!pip install git+https://github.com/maianhpuco/DIMVImputation.git"
      ],
      "metadata": {
        "colab": {
          "base_uri": "https://localhost:8080/"
        },
        "id": "CA32_7Plv0mP",
        "outputId": "16e82ef0-01c8-4293-a613-ae1edc5d577d"
      },
      "id": "CA32_7Plv0mP",
      "execution_count": 1,
      "outputs": [
        {
          "output_type": "stream",
          "name": "stdout",
          "text": [
            "Collecting git+https://github.com/maianhpuco/DIMVImputation.git\n",
            "  Cloning https://github.com/maianhpuco/DIMVImputation.git to /tmp/pip-req-build-8w0gk4i2\n",
            "  Running command git clone --filter=blob:none --quiet https://github.com/maianhpuco/DIMVImputation.git /tmp/pip-req-build-8w0gk4i2\n",
            "  Resolved https://github.com/maianhpuco/DIMVImputation.git to commit f6054bc46ae144a2a863a2d1d092248a8596bf30\n",
            "  Preparing metadata (setup.py) ... \u001b[?25l\u001b[?25hdone\n",
            "Requirement already satisfied: autopep8==2.0.2 in /usr/local/lib/python3.10/dist-packages (from DIMVImputation==0.1.0) (2.0.2)\n",
            "Requirement already satisfied: numpy==1.23.5 in /usr/local/lib/python3.10/dist-packages (from DIMVImputation==0.1.0) (1.23.5)\n",
            "Requirement already satisfied: pycodestyle==2.10.0 in /usr/local/lib/python3.10/dist-packages (from DIMVImputation==0.1.0) (2.10.0)\n",
            "Requirement already satisfied: tomli==2.0.1 in /usr/local/lib/python3.10/dist-packages (from DIMVImputation==0.1.0) (2.0.1)\n",
            "Requirement already satisfied: tqdm==4.65.0 in /usr/local/lib/python3.10/dist-packages (from DIMVImputation==0.1.0) (4.65.0)\n"
          ]
        }
      ]
    },
    {
      "cell_type": "code",
      "execution_count": 2,
      "id": "db893d86",
      "metadata": {
        "id": "db893d86"
      },
      "outputs": [],
      "source": [
        "import os\n",
        "import time\n",
        "import sys\n",
        "import numpy as np\n",
        "\n",
        "# Uncomment the following line if you have installed the DIMVImputation library by cloning the repository.\n",
        "# sys.path.append(\"src/\")\n",
        "from DIMVImputation import DIMVImputation"
      ]
    },
    {
      "cell_type": "markdown",
      "id": "8af21a24",
      "metadata": {
        "id": "8af21a24"
      },
      "source": [
        "We create some functions for create missing dataset and calculate RMSE"
      ]
    },
    {
      "cell_type": "code",
      "execution_count": 3,
      "id": "9e683a33",
      "metadata": {
        "id": "9e683a33"
      },
      "outputs": [],
      "source": [
        "def create_randomly_missing(data: np.ndarray, perc_del: float) -> np.ndarray:\n",
        "    \"\"\"\n",
        "    Creates a randomly missing mask for the input data.\n",
        "\n",
        "    Args:\n",
        "        data (np.ndarray): The input data.\n",
        "        perc_del (float): The percentage of missing values to create.\n",
        "\n",
        "    Returns:\n",
        "        np.ndarray: An array with the same shape as `data` where missing values are marked as NaN.\n",
        "    \"\"\"\n",
        "    n = data.shape[0]\n",
        "    # Flatten data into 1 row\n",
        "    flatten_data = data.reshape(1, -1)\n",
        "    # Uniform missing mask\n",
        "    missing_mask = np.random.uniform(0, 1, flatten_data.shape[1]).reshape(1, -1)\n",
        "    # Mark as missing if value in mask  < perc_del\n",
        "    missing_data = flatten_data.copy().astype('float')\n",
        "    missing_data[missing_mask <= perc_del] = np.nan\n",
        "\n",
        "    return missing_data.reshape(n, -1)\n",
        ""
      ]
    },
    {
      "cell_type": "code",
      "execution_count": 4,
      "id": "70966d57",
      "metadata": {
        "id": "70966d57"
      },
      "outputs": [],
      "source": [
        "def rmse_calc(ori_data, imp_data, missing_mask):\n",
        "    \"\"\"\n",
        "    missing_mask: 1 is missing_data, 0 is observed_data\n",
        "    Args:\n",
        "        ori_data (np.ndarray): original non missing data\n",
        "        imp_data (np.ndarray): imputed data\n",
        "        missing_mask (np.ndarray): 1 is missing_data, 0 is observed_data\n",
        "    Return:\n",
        "        np.ndarray: RMSE between original data (ground truth) and the imputed data\n",
        "    \"\"\"\n",
        "\n",
        "    nominator = np.sum(\n",
        "            (missing_mask * ori_data \\\n",
        "                    - missing_mask * imp_data\n",
        "             ) ** 2\n",
        "            )\n",
        "    denominator = np.sum(missing_mask)\n",
        "\n",
        "    return np.sqrt(nominator / denominator)"
      ]
    },
    {
      "cell_type": "markdown",
      "id": "29a3761f",
      "metadata": {
        "id": "29a3761f"
      },
      "source": [
        "We create a synthetic missing datasets"
      ]
    },
    {
      "cell_type": "code",
      "execution_count": 5,
      "id": "546d07f0",
      "metadata": {
        "id": "546d07f0"
      },
      "outputs": [],
      "source": [
        "#create a sample data\n",
        "data = np.random.randint(0, 100, size=(1000, 50)).astype('float64')\n",
        "\n",
        "\n",
        "#create missingness on data\n",
        "missing_rate = 0.5\n",
        "missing_data = create_randomly_missing(data, missing_rate)\n",
        "\n",
        "\n",
        "#train test split\n",
        "test_size = .2\n",
        "split_index = int(len(missing_data) * (1 - test_size))\n",
        "\n",
        "X_train_ori, X_test_ori = data[:split_index, :], data[split_index:, :]\n",
        "\n",
        "X_train_miss = missing_data[:split_index, :]\n",
        "X_test_miss = missing_data[split_index:, :]"
      ]
    },
    {
      "cell_type": "markdown",
      "id": "e670d61f",
      "metadata": {
        "id": "e670d61f"
      },
      "source": [
        "**Imputation for missing dataset**"
      ]
    },
    {
      "cell_type": "markdown",
      "id": "79c31eff",
      "metadata": {
        "id": "79c31eff"
      },
      "source": [
        "- **Example 1**: We use does not initialize missing data with zero ```initializing=False```"
      ]
    },
    {
      "cell_type": "code",
      "execution_count": 6,
      "id": "656dcfbc",
      "metadata": {
        "colab": {
          "base_uri": "https://localhost:8080/"
        },
        "id": "656dcfbc",
        "outputId": "985ece83-037a-4010-b13c-0b64dc3b2018"
      },
      "outputs": [
        {
          "output_type": "stream",
          "name": "stdout",
          "text": [
            "Start Cross Validation with alphas = [0.0, 0.01, 0.1, 1.0, 10.0, 100.0] and 100.0 % of training set\n",
            "Running Cross Validation, alpha=0.0\n"
          ]
        },
        {
          "output_type": "stream",
          "name": "stderr",
          "text": [
            "100%|██████████| 50/50 [00:26<00:00,  1.90it/s]\n"
          ]
        },
        {
          "output_type": "stream",
          "name": "stdout",
          "text": [
            "Running Cross Validation, alpha=0.01\n"
          ]
        },
        {
          "output_type": "stream",
          "name": "stderr",
          "text": [
            "100%|██████████| 50/50 [00:25<00:00,  1.99it/s]\n"
          ]
        },
        {
          "output_type": "stream",
          "name": "stdout",
          "text": [
            "Running Cross Validation, alpha=0.1\n"
          ]
        },
        {
          "output_type": "stream",
          "name": "stderr",
          "text": [
            "100%|██████████| 50/50 [00:25<00:00,  1.98it/s]\n"
          ]
        },
        {
          "output_type": "stream",
          "name": "stdout",
          "text": [
            "Running Cross Validation, alpha=1.0\n"
          ]
        },
        {
          "output_type": "stream",
          "name": "stderr",
          "text": [
            "100%|██████████| 50/50 [00:24<00:00,  2.02it/s]\n"
          ]
        },
        {
          "output_type": "stream",
          "name": "stdout",
          "text": [
            "Running Cross Validation, alpha=10.0\n"
          ]
        },
        {
          "output_type": "stream",
          "name": "stderr",
          "text": [
            "100%|██████████| 50/50 [00:24<00:00,  2.01it/s]\n"
          ]
        },
        {
          "output_type": "stream",
          "name": "stdout",
          "text": [
            "Running Cross Validation, alpha=100.0\n"
          ]
        },
        {
          "output_type": "stream",
          "name": "stderr",
          "text": [
            "100%|██████████| 50/50 [00:22<00:00,  2.19it/s]\n"
          ]
        },
        {
          "output_type": "stream",
          "name": "stdout",
          "text": [
            "Validation result: best alpha 0.1, best score 27.14148795588147, scores {0.0: 27.21505524391791, 0.01: 27.203183864973955, 0.1: 27.14148795588147, 1.0: 27.44468312507921, 10.0: 28.409374541616472, 100.0: 28.674086858294753}\n",
            "Value alpha used in for transforming is: 0.1\n"
          ]
        },
        {
          "output_type": "stream",
          "name": "stderr",
          "text": [
            "100%|██████████| 50/50 [00:03<00:00, 13.66it/s]"
          ]
        },
        {
          "output_type": "stream",
          "name": "stdout",
          "text": [
            "Imputation done after: 153.6686737537384 (seconds) and have Rmse = 30.8399043351438\n"
          ]
        },
        {
          "output_type": "stream",
          "name": "stderr",
          "text": [
            "\n"
          ]
        }
      ],
      "source": [
        "imputer1 = DIMVImputation()\n",
        "start = time.time()\n",
        "\n",
        "imputer1.fit(X_train_miss, initializing=False)\n",
        "X_test_imp1 = imputer1.transform(X_test_miss)\n",
        "\n",
        "nan_mask = np.isnan(X_test_miss)\n",
        "rmse1 = rmse_calc(X_test_ori, X_test_imp1, nan_mask)\n",
        "duration1 = time.time() - start\n",
        "print(\"Imputation done after: {} (seconds) and have Rmse = {}\".format(duration1, rmse1))"
      ]
    },
    {
      "cell_type": "markdown",
      "id": "2247d728",
      "metadata": {
        "id": "2247d728"
      },
      "source": [
        "- **Example 2**: We set initialize missing data with zero ```initializing=True``` (init_with_zeros is set to True)"
      ]
    },
    {
      "cell_type": "code",
      "execution_count": 7,
      "id": "8801f834",
      "metadata": {
        "colab": {
          "base_uri": "https://localhost:8080/"
        },
        "id": "8801f834",
        "outputId": "86a1f42f-a7cf-4484-de1e-e95895046f0c"
      },
      "outputs": [
        {
          "output_type": "stream",
          "name": "stderr",
          "text": [
            "100%|██████████| 1225/1225 [00:00<00:00, 4695.13it/s]\n"
          ]
        },
        {
          "output_type": "stream",
          "name": "stdout",
          "text": [
            "Start Cross Validation with alphas = [0.0, 0.01, 0.1, 1.0, 10.0, 100.0] and 100.0 % of training set\n",
            "Running Cross Validation, alpha=0.0\n"
          ]
        },
        {
          "output_type": "stream",
          "name": "stderr",
          "text": [
            "100%|██████████| 50/50 [00:00<00:00, 543.21it/s]\n"
          ]
        },
        {
          "output_type": "stream",
          "name": "stdout",
          "text": [
            "Running Cross Validation, alpha=0.01\n"
          ]
        },
        {
          "output_type": "stream",
          "name": "stderr",
          "text": [
            "100%|██████████| 50/50 [00:00<00:00, 434.30it/s]\n"
          ]
        },
        {
          "output_type": "stream",
          "name": "stdout",
          "text": [
            "Running Cross Validation, alpha=0.1\n"
          ]
        },
        {
          "output_type": "stream",
          "name": "stderr",
          "text": [
            "100%|██████████| 50/50 [00:00<00:00, 548.56it/s]\n"
          ]
        },
        {
          "output_type": "stream",
          "name": "stdout",
          "text": [
            "Running Cross Validation, alpha=1.0\n"
          ]
        },
        {
          "output_type": "stream",
          "name": "stderr",
          "text": [
            "100%|██████████| 50/50 [00:00<00:00, 626.63it/s]\n"
          ]
        },
        {
          "output_type": "stream",
          "name": "stdout",
          "text": [
            "Running Cross Validation, alpha=10.0\n"
          ]
        },
        {
          "output_type": "stream",
          "name": "stderr",
          "text": [
            "100%|██████████| 50/50 [00:00<00:00, 579.64it/s]\n"
          ]
        },
        {
          "output_type": "stream",
          "name": "stdout",
          "text": [
            "Running Cross Validation, alpha=100.0\n"
          ]
        },
        {
          "output_type": "stream",
          "name": "stderr",
          "text": [
            "100%|██████████| 50/50 [00:00<00:00, 629.20it/s]\n"
          ]
        },
        {
          "output_type": "stream",
          "name": "stdout",
          "text": [
            "Validation result: best alpha 0.1, best score 27.219416582074913, scores {0.0: 27.656521692765303, 0.01: 27.579867856867306, 0.1: 27.219416582074913, 1.0: 27.403506476405003, 10.0: 28.40884562687523, 100.0: 28.674084913087043}\n",
            "Value alpha used in for transforming is: 0.1\n"
          ]
        },
        {
          "output_type": "stream",
          "name": "stderr",
          "text": [
            "100%|██████████| 50/50 [00:00<00:00, 1390.06it/s]"
          ]
        },
        {
          "output_type": "stream",
          "name": "stdout",
          "text": [
            "Imputation done after: 1.0491135120391846 (seconds) and have Rmse = 31.46687205446924\n"
          ]
        },
        {
          "output_type": "stream",
          "name": "stderr",
          "text": [
            "\n"
          ]
        }
      ],
      "source": [
        "imputer3 = DIMVImputation()\n",
        "start = time.time()\n",
        "\n",
        "imputer3.fit(X_train_miss, initializing=True, n_jobs=-1)\n",
        "X_test_imp3 = imputer3.transform(X_test_miss)\n",
        "\n",
        "nan_mask = np.isnan(X_test_miss)\n",
        "rmse3 = rmse_calc(X_test_ori, X_test_imp3, nan_mask)\n",
        "duration3 = time.time() - start\n",
        "print(\"Imputation done after: {} (seconds) and have Rmse = {}\".format(duration3, rmse3))"
      ]
    },
    {
      "cell_type": "code",
      "source": [],
      "metadata": {
        "id": "1hxL2yIeZ-rH"
      },
      "id": "1hxL2yIeZ-rH",
      "execution_count": null,
      "outputs": []
    }
  ],
  "metadata": {
    "kernelspec": {
      "display_name": "Python 3 (ipykernel)",
      "language": "python",
      "name": "python3"
    },
    "language_info": {
      "codemirror_mode": {
        "name": "ipython",
        "version": 3
      },
      "file_extension": ".py",
      "mimetype": "text/x-python",
      "name": "python",
      "nbconvert_exporter": "python",
      "pygments_lexer": "ipython3",
      "version": "3.9.12"
    },
    "colab": {
      "provenance": []
    }
  },
  "nbformat": 4,
  "nbformat_minor": 5
}