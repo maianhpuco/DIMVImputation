{
 "cells": [
  {
   "cell_type": "code",
   "execution_count": 3,
   "id": "db893d86",
   "metadata": {},
   "outputs": [],
   "source": [
    "import os\n",
    "import time\n",
    "import sys\n",
    "import numpy as np  \n",
    "\n",
    "sys.path.append(\"src/\")\n",
    "from DIMVImputation import DIMVImputation"
   ]
  },
  {
   "cell_type": "markdown",
   "id": "8af21a24",
   "metadata": {},
   "source": [
    "We create some functions for create missing dataset and calculate RMSE"
   ]
  },
  {
   "cell_type": "code",
   "execution_count": 23,
   "id": "9e683a33",
   "metadata": {},
   "outputs": [],
   "source": [
    "def create_randomly_missing(data: np.ndarray, perc_del: float) -> np.ndarray:\n",
    "    \"\"\"\n",
    "    Creates a randomly missing mask for the input data.\n",
    "\n",
    "    Args:\n",
    "        data (np.ndarray): The input data.\n",
    "        perc_del (float): The percentage of missing values to create.\n",
    "\n",
    "    Returns:\n",
    "        np.ndarray: An array with the same shape as `data` where missing values are marked as NaN.\n",
    "    \"\"\"\n",
    "    n = data.shape[0]\n",
    "    # Flatten data into 1 row\n",
    "    flatten_data = data.reshape(1, -1)\n",
    "    # Uniform missing mask\n",
    "    missing_mask = np.random.uniform(0, 1, flatten_data.shape[1]).reshape(1, -1)\n",
    "    # Mark as missing if value in mask  < perc_del\n",
    "    missing_data = flatten_data.copy().astype('float')\n",
    "    missing_data[missing_mask <= perc_del] = np.nan\n",
    "\n",
    "    return missing_data.reshape(n, -1)\n",
    " "
   ]
  },
  {
   "cell_type": "code",
   "execution_count": 24,
   "id": "70966d57",
   "metadata": {},
   "outputs": [],
   "source": [
    "def rmse_calc(ori_data, imp_data, missing_mask):\n",
    "    \"\"\"\n",
    "    missing_mask: 1 is missing_data, 0 is observed_data\n",
    "    Args: \n",
    "        ori_data (np.ndarray): original non missing data \n",
    "        imp_data (np.ndarray): imputed data \n",
    "        missing_mask (np.ndarray): 1 is missing_data, 0 is observed_data \n",
    "    Return:\n",
    "        np.ndarray: RMSE between original data (ground truth) and the imputed data \n",
    "    \"\"\"\n",
    "\n",
    "    nominator = np.sum(\n",
    "            (missing_mask * ori_data \\\n",
    "                    - missing_mask * imp_data\n",
    "             ) ** 2\n",
    "            )\n",
    "    denominator = np.sum(missing_mask)\n",
    "\n",
    "    return np.sqrt(nominator / denominator) "
   ]
  },
  {
   "cell_type": "markdown",
   "id": "29a3761f",
   "metadata": {},
   "source": [
    "We create a synthetic missing datasets "
   ]
  },
  {
   "cell_type": "code",
   "execution_count": 25,
   "id": "546d07f0",
   "metadata": {},
   "outputs": [],
   "source": [
    "#create a sample data\n",
    "data = np.random.randint(0, 100, size=(1000, 50)).astype('float64')\n",
    "\n",
    "\n",
    "#create missingness on data \n",
    "missing_rate = 0.5\n",
    "missing_data = create_randomly_missing(data, missing_rate)\n",
    "\n",
    "\n",
    "#train test split\n",
    "test_size = .2\n",
    "split_index = int(len(missing_data) * (1 - test_size))\n",
    "\n",
    "X_train_ori, X_test_ori = data[:split_index, :], data[split_index:, :]\n",
    "\n",
    "X_train_miss = missing_data[:split_index, :] \n",
    "X_test_miss = missing_data[split_index:, :] "
   ]
  },
  {
   "cell_type": "markdown",
   "id": "e670d61f",
   "metadata": {},
   "source": [
    "**Imputation for missing dataset**"
   ]
  },
  {
   "cell_type": "markdown",
   "id": "79c31eff",
   "metadata": {},
   "source": [
    "- **Example 1**: We use does not initialize missing data with zero ```initializing=False```"
   ]
  },
  {
   "cell_type": "code",
   "execution_count": 21,
   "id": "656dcfbc",
   "metadata": {},
   "outputs": [
    {
     "name": "stdout",
     "output_type": "stream",
     "text": [
      "Start Cross Validation with alphas = [0.0, 0.01, 0.1, 1.0, 10.0, 100.0] and 100 % of training set\n",
      "Running Cross Validation, alpha=0.0\n"
     ]
    },
    {
     "name": "stderr",
     "output_type": "stream",
     "text": [
      "100%|████████████████████████████████████████████████████████████| 50/50 [00:15<00:00,  3.30it/s]\n"
     ]
    },
    {
     "name": "stdout",
     "output_type": "stream",
     "text": [
      "Running Cross Validation, alpha=0.01\n"
     ]
    },
    {
     "name": "stderr",
     "output_type": "stream",
     "text": [
      "100%|████████████████████████████████████████████████████████████| 50/50 [00:16<00:00,  3.05it/s]\n"
     ]
    },
    {
     "name": "stdout",
     "output_type": "stream",
     "text": [
      "Running Cross Validation, alpha=0.1\n"
     ]
    },
    {
     "name": "stderr",
     "output_type": "stream",
     "text": [
      "100%|████████████████████████████████████████████████████████████| 50/50 [00:19<00:00,  2.63it/s]\n"
     ]
    },
    {
     "name": "stdout",
     "output_type": "stream",
     "text": [
      "Running Cross Validation, alpha=1.0\n"
     ]
    },
    {
     "name": "stderr",
     "output_type": "stream",
     "text": [
      "100%|████████████████████████████████████████████████████████████| 50/50 [00:18<00:00,  2.68it/s]\n"
     ]
    },
    {
     "name": "stdout",
     "output_type": "stream",
     "text": [
      "Running Cross Validation, alpha=10.0\n"
     ]
    },
    {
     "name": "stderr",
     "output_type": "stream",
     "text": [
      "100%|████████████████████████████████████████████████████████████| 50/50 [00:16<00:00,  3.00it/s]\n"
     ]
    },
    {
     "name": "stdout",
     "output_type": "stream",
     "text": [
      "Running Cross Validation, alpha=100.0\n"
     ]
    },
    {
     "name": "stderr",
     "output_type": "stream",
     "text": [
      "100%|████████████████████████████████████████████████████████████| 50/50 [00:18<00:00,  2.68it/s]\n",
      "100%|████████████████████████████████████████████████████████████| 50/50 [00:01<00:00, 26.27it/s]"
     ]
    },
    {
     "name": "stdout",
     "output_type": "stream",
     "text": [
      "Imputation done after: 106.69820308685303 (seconds) and have Rmse = 30.942500505619762\n"
     ]
    },
    {
     "name": "stderr",
     "output_type": "stream",
     "text": [
      "\n"
     ]
    }
   ],
   "source": [
    "imputer1 = DIMVImputation()\n",
    "start = time.time()\n",
    "\n",
    "imputer1.fit(X_train_miss, initializing=False)\n",
    "\n",
    "imputer1.cross_validate(train_percent=1)\n",
    "\n",
    "\n",
    "X_test_imp1 = imputer1.transform(X_test_miss)\n",
    "\n",
    "\n",
    "nan_mask = np.isnan(X_test_miss)\n",
    "rmse1 = rmse_calc(X_test_ori, X_test_imp1, nan_mask)\n",
    "duration1 = time.time() - start\n",
    "print(\"Imputation done after: {} (seconds) and have Rmse = {}\".format(duration1, rmse1))  "
   ]
  },
  {
   "cell_type": "markdown",
   "id": "2247d728",
   "metadata": {},
   "source": [
    "- **Example 2**: We set initialize missing data with zero ```initializing=True``` (init_with_zeros is set to True)"
   ]
  },
  {
   "cell_type": "code",
   "execution_count": 20,
   "id": "8801f834",
   "metadata": {},
   "outputs": [
    {
     "name": "stderr",
     "output_type": "stream",
     "text": [
      "100%|██████████████████████████████████████████████████████| 1225/1225 [00:00<00:00, 1833.19it/s]\n"
     ]
    },
    {
     "name": "stdout",
     "output_type": "stream",
     "text": [
      "Start Cross Validation with alphas = [0.0, 0.01, 0.1, 1.0, 10.0, 100.0] and 100 % of training set\n",
      "Running Cross Validation, alpha=0.0\n"
     ]
    },
    {
     "name": "stderr",
     "output_type": "stream",
     "text": [
      "100%|██████████████████████████████████████████████████████████| 50/50 [00:00<00:00, 1010.68it/s]\n"
     ]
    },
    {
     "name": "stdout",
     "output_type": "stream",
     "text": [
      "Running Cross Validation, alpha=0.01\n"
     ]
    },
    {
     "name": "stderr",
     "output_type": "stream",
     "text": [
      "100%|███████████████████████████████████████████████████████████| 50/50 [00:00<00:00, 902.48it/s]\n"
     ]
    },
    {
     "name": "stdout",
     "output_type": "stream",
     "text": [
      "Running Cross Validation, alpha=0.1\n"
     ]
    },
    {
     "name": "stderr",
     "output_type": "stream",
     "text": [
      "100%|██████████████████████████████████████████████████████████| 50/50 [00:00<00:00, 1024.86it/s]\n"
     ]
    },
    {
     "name": "stdout",
     "output_type": "stream",
     "text": [
      "Running Cross Validation, alpha=1.0\n"
     ]
    },
    {
     "name": "stderr",
     "output_type": "stream",
     "text": [
      "100%|███████████████████████████████████████████████████████████| 50/50 [00:00<00:00, 918.24it/s]\n"
     ]
    },
    {
     "name": "stdout",
     "output_type": "stream",
     "text": [
      "Running Cross Validation, alpha=10.0\n"
     ]
    },
    {
     "name": "stderr",
     "output_type": "stream",
     "text": [
      "100%|███████████████████████████████████████████████████████████| 50/50 [00:00<00:00, 981.08it/s]\n"
     ]
    },
    {
     "name": "stdout",
     "output_type": "stream",
     "text": [
      "Running Cross Validation, alpha=100.0\n"
     ]
    },
    {
     "name": "stderr",
     "output_type": "stream",
     "text": [
      "100%|███████████████████████████████████████████████████████████| 50/50 [00:00<00:00, 963.20it/s]\n",
      "100%|████████████████████████████████████████████████████████████| 50/50 [00:02<00:00, 17.16it/s]"
     ]
    },
    {
     "name": "stdout",
     "output_type": "stream",
     "text": [
      "Imputation done after: 4.0854761600494385 (seconds) and have Rmse = 30.942500505619762\n"
     ]
    },
    {
     "name": "stderr",
     "output_type": "stream",
     "text": [
      "\n"
     ]
    }
   ],
   "source": [
    "imputer3 = DIMVImputation()\n",
    "start = time.time()\n",
    "\n",
    "imputer3.fit(X_train_miss, initializing=True, n_jobs=-1)\n",
    "\n",
    "imputer3.cross_validate(train_percent=1)\n",
    "X_test_imp3 = imputer2.transform(X_test_miss)\n",
    "\n",
    "\n",
    "nan_mask = np.isnan(X_test_miss)\n",
    "rmse3 = rmse_calc(X_test_ori, X_test_imp3, nan_mask)\n",
    "duration3 = time.time() - start\n",
    "print(\"Imputation done after: {} (seconds) and have Rmse = {}\".format(duration3, rmse3))    "
   ]
  },
  {
   "cell_type": "code",
   "execution_count": null,
   "id": "17143db3",
   "metadata": {},
   "outputs": [],
   "source": []
  }
 ],
 "metadata": {
  "kernelspec": {
   "display_name": "Python 3 (ipykernel)",
   "language": "python",
   "name": "python3"
  },
  "language_info": {
   "codemirror_mode": {
    "name": "ipython",
    "version": 3
   },
   "file_extension": ".py",
   "mimetype": "text/x-python",
   "name": "python",
   "nbconvert_exporter": "python",
   "pygments_lexer": "ipython3",
   "version": "3.9.12"
  }
 },
 "nbformat": 4,
 "nbformat_minor": 5
}
