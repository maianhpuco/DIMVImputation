{
 "cells": [
  {
   "cell_type": "code",
   "execution_count": 1,
   "id": "db893d86",
   "metadata": {},
   "outputs": [],
   "source": [
    "import os\n",
    "import time\n",
    "import sys\n",
    "\n",
    "sys.path.append(\"src/\")\n",
    "from DIMVImputation import DIMVImputation\n",
    "from utils import create_randomly_missing\n",
    "\n",
    "import numpy as np "
   ]
  },
  {
   "cell_type": "code",
   "execution_count": 2,
   "id": "9e683a33",
   "metadata": {},
   "outputs": [],
   "source": [
    "def create_randomly_missing(data: np.ndarray, perc_del: float) -> np.ndarray:\n",
    "    \"\"\"\n",
    "    Creates a randomly missing mask for the input data.\n",
    "\n",
    "    Args:\n",
    "        data (np.ndarray): The input data.\n",
    "        perc_del (float): The percentage of missing values to create.\n",
    "\n",
    "    Returns:\n",
    "        np.ndarray: An array with the same shape as `data` where missing values are marked as NaN.\n",
    "    \"\"\"\n",
    "    n = data.shape[0]\n",
    "    # Flatten data into 1 row\n",
    "    flatten_data = data.reshape(1, -1)\n",
    "    # Uniform missing mask\n",
    "    missing_mask = np.random.uniform(0, 1, flatten_data.shape[1]).reshape(1, -1)\n",
    "    # Mark as missing if value in mask  < perc_del\n",
    "    missing_data = flatten_data.copy().astype('float')\n",
    "    missing_data[missing_mask <= perc_del] = np.nan\n",
    "\n",
    "    return missing_data.reshape(n, -1)\n",
    " "
   ]
  },
  {
   "cell_type": "code",
   "execution_count": 3,
   "id": "70966d57",
   "metadata": {},
   "outputs": [],
   "source": [
    "def rmse_calc(ori_data, imp_data, missing_mask):\n",
    "    \"\"\"\n",
    "    missing_mask: 1 is missing_data, 0 is observed_data\n",
    "    \"\"\"\n",
    "\n",
    "    nominator = np.sum(\n",
    "            (missing_mask * ori_data \\\n",
    "                    - missing_mask * imp_data\n",
    "             ) ** 2\n",
    "            )\n",
    "    denominator = np.sum(missing_mask)\n",
    "\n",
    "    return np.sqrt(nominator / denominator) "
   ]
  },
  {
   "cell_type": "code",
   "execution_count": 4,
   "id": "546d07f0",
   "metadata": {},
   "outputs": [],
   "source": [
    "#create a sample data\n",
    "data = np.random.randint(0, 100, size=(100, 30)).astype('float64')\n",
    "missing_rate = 0.5\n",
    "missing_data = create_randomly_missing(data, missing_rate)\n",
    "\n",
    "#train test split\n",
    "test_size = .2\n",
    "split_index = int(len(missing_data) * (1 - test_size))\n",
    "\n",
    "X_train_ori, X_test_ori = data[:split_index, :], data[split_index:, :]\n",
    "\n",
    "X_train_miss, X_test_miss = missing_data[:split_index, :], missing_data[\n",
    "    split_index:, :]"
   ]
  },
  {
   "cell_type": "code",
   "execution_count": 6,
   "id": "656dcfbc",
   "metadata": {},
   "outputs": [
    {
     "name": "stdout",
     "output_type": "stream",
     "text": [
      "Start Cross Validation with alphas = [0.0, 0.01, 0.1, 1.0, 10.0, 100.0] and 100 % of training set\n",
      "Running Cross Validation, alpha=0.0\n"
     ]
    },
    {
     "name": "stderr",
     "output_type": "stream",
     "text": [
      "100%|████████████████████████████████████████████████████████████| 30/30 [00:01<00:00, 29.53it/s]\n"
     ]
    },
    {
     "name": "stdout",
     "output_type": "stream",
     "text": [
      "Running Cross Validation, alpha=0.01\n"
     ]
    },
    {
     "name": "stderr",
     "output_type": "stream",
     "text": [
      "100%|████████████████████████████████████████████████████████████| 30/30 [00:01<00:00, 28.67it/s]\n"
     ]
    },
    {
     "name": "stdout",
     "output_type": "stream",
     "text": [
      "Running Cross Validation, alpha=0.1\n"
     ]
    },
    {
     "name": "stderr",
     "output_type": "stream",
     "text": [
      "100%|████████████████████████████████████████████████████████████| 30/30 [00:01<00:00, 23.47it/s]\n"
     ]
    },
    {
     "name": "stdout",
     "output_type": "stream",
     "text": [
      "Running Cross Validation, alpha=1.0\n"
     ]
    },
    {
     "name": "stderr",
     "output_type": "stream",
     "text": [
      "100%|████████████████████████████████████████████████████████████| 30/30 [00:01<00:00, 26.17it/s]\n"
     ]
    },
    {
     "name": "stdout",
     "output_type": "stream",
     "text": [
      "Running Cross Validation, alpha=10.0\n"
     ]
    },
    {
     "name": "stderr",
     "output_type": "stream",
     "text": [
      "100%|████████████████████████████████████████████████████████████| 30/30 [00:01<00:00, 25.10it/s]\n"
     ]
    },
    {
     "name": "stdout",
     "output_type": "stream",
     "text": [
      "Running Cross Validation, alpha=100.0\n"
     ]
    },
    {
     "name": "stderr",
     "output_type": "stream",
     "text": [
      "100%|████████████████████████████████████████████████████████████| 30/30 [00:01<00:00, 24.51it/s]\n",
      "100%|███████████████████████████████████████████████████████████| 30/30 [00:00<00:00, 230.52it/s]"
     ]
    },
    {
     "name": "stdout",
     "output_type": "stream",
     "text": [
      "Imputation done after: 7.1285200119018555 and have Rmse = 1954.9800598808072\n"
     ]
    },
    {
     "name": "stderr",
     "output_type": "stream",
     "text": [
      "\n"
     ]
    }
   ],
   "source": [
    "imputer1 = DIMVImputation()\n",
    "start = time.time()\n",
    "\n",
    "imputer1.fit(X_train_miss, initializing=False, n_jobs=1)\n",
    "\n",
    "imputer1.cross_validate(train_percent=1)\n",
    "X_test_imp1 = imputer.transform(X_test_miss)\n",
    "\n",
    "\n",
    "nan_mask = np.isnan(X_test_miss)\n",
    "rmse1 = rmse_calc(X_test_ori, X_test_imp1, nan_mask)\n",
    "duration1 = time.time() - start\n",
    "print(\"Imputation done after: {} and have Rmse = {}\".format(duration1, rmse1)) "
   ]
  },
  {
   "cell_type": "code",
   "execution_count": 7,
   "id": "c2147ca7",
   "metadata": {},
   "outputs": [
    {
     "name": "stderr",
     "output_type": "stream",
     "text": [
      "100%|█████████████████████████████████████████████████████████| 435/435 [00:00<00:00, 479.00it/s]\n"
     ]
    },
    {
     "name": "stdout",
     "output_type": "stream",
     "text": [
      "Start Cross Validation with alphas = [0.0, 0.01, 0.1, 1.0, 10.0, 100.0] and 100 % of training set\n",
      "Running Cross Validation, alpha=0.0\n"
     ]
    },
    {
     "name": "stderr",
     "output_type": "stream",
     "text": [
      "100%|████████████████████████████████████████████████████████████| 30/30 [00:00<00:00, 32.05it/s]\n"
     ]
    },
    {
     "name": "stdout",
     "output_type": "stream",
     "text": [
      "Running Cross Validation, alpha=0.01\n"
     ]
    },
    {
     "name": "stderr",
     "output_type": "stream",
     "text": [
      "100%|████████████████████████████████████████████████████████████| 30/30 [00:01<00:00, 24.39it/s]\n"
     ]
    },
    {
     "name": "stdout",
     "output_type": "stream",
     "text": [
      "Running Cross Validation, alpha=0.1\n"
     ]
    },
    {
     "name": "stderr",
     "output_type": "stream",
     "text": [
      "100%|████████████████████████████████████████████████████████████| 30/30 [00:01<00:00, 26.01it/s]\n"
     ]
    },
    {
     "name": "stdout",
     "output_type": "stream",
     "text": [
      "Running Cross Validation, alpha=1.0\n"
     ]
    },
    {
     "name": "stderr",
     "output_type": "stream",
     "text": [
      "100%|████████████████████████████████████████████████████████████| 30/30 [00:01<00:00, 24.27it/s]\n"
     ]
    },
    {
     "name": "stdout",
     "output_type": "stream",
     "text": [
      "Running Cross Validation, alpha=10.0\n"
     ]
    },
    {
     "name": "stderr",
     "output_type": "stream",
     "text": [
      "100%|████████████████████████████████████████████████████████████| 30/30 [00:01<00:00, 23.19it/s]\n"
     ]
    },
    {
     "name": "stdout",
     "output_type": "stream",
     "text": [
      "Running Cross Validation, alpha=100.0\n"
     ]
    },
    {
     "name": "stderr",
     "output_type": "stream",
     "text": [
      "100%|████████████████████████████████████████████████████████████| 30/30 [00:01<00:00, 18.71it/s]\n",
      "100%|███████████████████████████████████████████████████████████| 30/30 [00:00<00:00, 304.12it/s]"
     ]
    },
    {
     "name": "stdout",
     "output_type": "stream",
     "text": [
      "Imputation done after: 8.677681922912598 and have Rmse = 1954.9800598808072\n"
     ]
    },
    {
     "name": "stderr",
     "output_type": "stream",
     "text": [
      "\n"
     ]
    }
   ],
   "source": [
    "imputer2 = DIMVImputation()\n",
    "start = time.time()\n",
    "\n",
    "imputer2.fit(X_train_miss, initializing=False, n_jobs=-1)\n",
    "\n",
    "imputer2.cross_validate(train_percent=1)\n",
    "X_test_imp2 = imputer2.transform(X_test_miss)\n",
    "\n",
    "\n",
    "nan_mask = np.isnan(X_test_miss)\n",
    "rmse2 = rmse_calc(X_test_ori, X_test_imp2, nan_mask)\n",
    "duration2 = time.time() - start\n",
    "print(\"Imputation done after: {} and have Rmse = {}\".format(duration2, rmse2))  "
   ]
  },
  {
   "cell_type": "code",
   "execution_count": 11,
   "id": "8801f834",
   "metadata": {},
   "outputs": [
    {
     "name": "stderr",
     "output_type": "stream",
     "text": [
      "100%|█████████████████████████████████████████████████████████| 435/435 [00:00<00:00, 521.37it/s]\n"
     ]
    },
    {
     "name": "stdout",
     "output_type": "stream",
     "text": [
      "Start Cross Validation with alphas = [0.0, 0.01, 0.1, 1.0, 10.0, 100.0] and 100 % of training set\n",
      "Running Cross Validation, alpha=0.0\n"
     ]
    },
    {
     "name": "stderr",
     "output_type": "stream",
     "text": [
      "100%|███████████████████████████████████████████████████████████| 30/30 [00:00<00:00, 393.66it/s]\n"
     ]
    },
    {
     "name": "stdout",
     "output_type": "stream",
     "text": [
      "Running Cross Validation, alpha=0.01\n"
     ]
    },
    {
     "name": "stderr",
     "output_type": "stream",
     "text": [
      "100%|███████████████████████████████████████████████████████████| 30/30 [00:00<00:00, 937.27it/s]\n"
     ]
    },
    {
     "name": "stdout",
     "output_type": "stream",
     "text": [
      "Running Cross Validation, alpha=0.1\n"
     ]
    },
    {
     "name": "stderr",
     "output_type": "stream",
     "text": [
      "100%|███████████████████████████████████████████████████████████| 30/30 [00:00<00:00, 737.28it/s]\n"
     ]
    },
    {
     "name": "stdout",
     "output_type": "stream",
     "text": [
      "Running Cross Validation, alpha=1.0\n"
     ]
    },
    {
     "name": "stderr",
     "output_type": "stream",
     "text": [
      "100%|███████████████████████████████████████████████████████████| 30/30 [00:00<00:00, 400.85it/s]\n"
     ]
    },
    {
     "name": "stdout",
     "output_type": "stream",
     "text": [
      "Running Cross Validation, alpha=10.0\n"
     ]
    },
    {
     "name": "stderr",
     "output_type": "stream",
     "text": [
      "100%|███████████████████████████████████████████████████████████| 30/30 [00:00<00:00, 762.00it/s]\n"
     ]
    },
    {
     "name": "stdout",
     "output_type": "stream",
     "text": [
      "Running Cross Validation, alpha=100.0\n"
     ]
    },
    {
     "name": "stderr",
     "output_type": "stream",
     "text": [
      "100%|███████████████████████████████████████████████████████████| 30/30 [00:00<00:00, 702.32it/s]\n",
      "100%|███████████████████████████████████████████████████████████| 30/30 [00:00<00:00, 261.84it/s]"
     ]
    },
    {
     "name": "stdout",
     "output_type": "stream",
     "text": [
      "Imputation done after: 1.4606752395629883 and have Rmse = 1954.9800598808072\n"
     ]
    },
    {
     "name": "stderr",
     "output_type": "stream",
     "text": [
      "\n"
     ]
    }
   ],
   "source": [
    "imputer3 = DIMVImputation()\n",
    "start = time.time()\n",
    "\n",
    "imputer3.fit(X_train_miss, initializing=True, n_jobs=-1)\n",
    "\n",
    "imputer3.cross_validate(train_percent=1)\n",
    "X_test_imp3 = imputer2.transform(X_test_miss)\n",
    "\n",
    "\n",
    "nan_mask = np.isnan(X_test_miss)\n",
    "rmse3 = rmse_calc(X_test_ori, X_test_imp3, nan_mask)\n",
    "duration3 = time.time() - start\n",
    "print(\"Imputation done after: {} and have Rmse = {}\".format(duration3, rmse3))   "
   ]
  },
  {
   "cell_type": "code",
   "execution_count": null,
   "id": "17143db3",
   "metadata": {},
   "outputs": [],
   "source": []
  }
 ],
 "metadata": {
  "kernelspec": {
   "display_name": "Python 3 (ipykernel)",
   "language": "python",
   "name": "python3"
  },
  "language_info": {
   "codemirror_mode": {
    "name": "ipython",
    "version": 3
   },
   "file_extension": ".py",
   "mimetype": "text/x-python",
   "name": "python",
   "nbconvert_exporter": "python",
   "pygments_lexer": "ipython3",
   "version": "3.9.12"
  }
 },
 "nbformat": 4,
 "nbformat_minor": 5
}
